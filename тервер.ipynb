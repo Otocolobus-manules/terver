{
 "cells": [
  {
   "cell_type": "code",
   "id": "initial_id",
   "metadata": {
    "collapsed": true,
    "ExecuteTime": {
     "end_time": "2024-12-15T18:08:12.563380Z",
     "start_time": "2024-12-15T18:08:12.559379Z"
    }
   },
   "source": [
    "# Вариант 1 Выборка\n",
    "data = [\n",
    "    135, 133, 124, 132, 104, 152, 134, 130, 129, 120, 122, 124,\n",
    "    117, 123, 123, 129, 121, 122, 125, 131, 147, 124, 137, 112,\n",
    "    126, 128, 111, 129, 115, 147, 131, 132, 137, 119, 125, 120,\n",
    "    129, 125, 123, 127, 132, 118, 133, 132, 132, 134, 131, 120,\n",
    "    135, 132, 125, 132, 108, 114, 121, 133, 133, 135, 131, 125,\n",
    "    114, 115, 122, 131, 125, 132, 120, 126, 115, 117, 118, 118,\n",
    "    132, 134, 127, 127, 124, 135, 128, 127, 115, 144, 129, 120,\n",
    "    137, 127, 125, 116, 132, 120, 117, 127, 118, 109, 127, 122,\n",
    "    120, 135, 116, 118, 133, 136, 125, 126, 119, 126, 129, 127,\n",
    "    129, 124, 127, 132, 126, 131, 127, 130, 126, 124, 135, 127,\n",
    "    124, 123, 123, 130, 132, 143, 122, 139, 120, 134, 108, 132,\n",
    "    121, 111, 123, 140, 137, 120, 125, 131, 118, 120, 120, 136,\n",
    "    129, 127, 116, 138, 128, 133, 122, 131, 128, 140, 138, 134,\n",
    "    120, 126, 109, 137, 111, 115, 117, 130, 113, 126, 115, 124,\n",
    "    125, 118, 115, 128, 123, 129, 128, 120, 115, 134, 118, 135,\n",
    "    134\n",
    "]"
   ],
   "outputs": [],
   "execution_count": 16
  },
  {
   "metadata": {
    "ExecuteTime": {
     "end_time": "2024-12-15T18:08:12.570763Z",
     "start_time": "2024-12-15T18:08:12.568387Z"
    }
   },
   "cell_type": "code",
   "source": [
    "import numpy as np\n",
    "import pandas as pd\n",
    "import matplotlib.pyplot as plt\n",
    "import seaborn as sns\n",
    "import scipy as sp"
   ],
   "id": "7bbed6a9da437790",
   "outputs": [],
   "execution_count": 17
  },
  {
   "metadata": {},
   "cell_type": "markdown",
   "source": "# 1.Составить вариационный ряд",
   "id": "76e99f2ede038e17"
  },
  {
   "metadata": {},
   "cell_type": "markdown",
   "source": "Вариационный ряд — это упорядоченный набор данных, полученных в результате наблюдений или экспериментов. Он представляет собой последовательность значений, расположенных в порядке возрастания (или убывания).",
   "id": "955a3b2bba14268"
  },
  {
   "metadata": {
    "ExecuteTime": {
     "end_time": "2024-12-15T18:08:12.596791Z",
     "start_time": "2024-12-15T18:08:12.593612Z"
    }
   },
   "cell_type": "code",
   "source": [
    "sorted_data = sorted(data)\n",
    "\n",
    "print(*np.array(sorted_data).T)"
   ],
   "id": "31bbaea279742a91",
   "outputs": [
    {
     "name": "stdout",
     "output_type": "stream",
     "text": [
      "104 108 108 109 109 111 111 111 112 113 114 114 115 115 115 115 115 115 115 115 116 116 116 117 117 117 117 118 118 118 118 118 118 118 118 119 119 120 120 120 120 120 120 120 120 120 120 120 120 120 121 121 121 122 122 122 122 122 122 123 123 123 123 123 123 123 124 124 124 124 124 124 124 124 125 125 125 125 125 125 125 125 125 125 126 126 126 126 126 126 126 126 127 127 127 127 127 127 127 127 127 127 127 127 128 128 128 128 128 128 129 129 129 129 129 129 129 129 129 130 130 130 130 131 131 131 131 131 131 131 131 132 132 132 132 132 132 132 132 132 132 132 132 132 133 133 133 133 133 133 134 134 134 134 134 134 134 135 135 135 135 135 135 135 136 136 137 137 137 137 137 138 138 139 140 140 143 144 147 147 152\n"
     ]
    }
   ],
   "execution_count": 18
  },
  {
   "metadata": {
    "ExecuteTime": {
     "end_time": "2024-12-15T18:08:12.611925Z",
     "start_time": "2024-12-15T18:08:12.606796Z"
    }
   },
   "cell_type": "code",
   "source": [
    "# 2. Создаем DataFrame с подсчетом частоты каждого уникального значения\n",
    "df = pd.DataFrame(sorted_data, columns=['Значение'])\n",
    "\n",
    "# 3. Подсчитываем частоту значений\n",
    "df.value_counts().sort_index()"
   ],
   "id": "d854259644954843",
   "outputs": [
    {
     "data": {
      "text/plain": [
       "Значение\n",
       "104          1\n",
       "108          2\n",
       "109          2\n",
       "111          3\n",
       "112          1\n",
       "113          1\n",
       "114          2\n",
       "115          8\n",
       "116          3\n",
       "117          4\n",
       "118          8\n",
       "119          2\n",
       "120         13\n",
       "121          3\n",
       "122          6\n",
       "123          7\n",
       "124          8\n",
       "125         10\n",
       "126          8\n",
       "127         12\n",
       "128          6\n",
       "129          9\n",
       "130          4\n",
       "131          8\n",
       "132         13\n",
       "133          6\n",
       "134          7\n",
       "135          7\n",
       "136          2\n",
       "137          5\n",
       "138          2\n",
       "139          1\n",
       "140          2\n",
       "143          1\n",
       "144          1\n",
       "147          2\n",
       "152          1\n",
       "Name: count, dtype: int64"
      ]
     },
     "execution_count": 19,
     "metadata": {},
     "output_type": "execute_result"
    }
   ],
   "execution_count": 19
  },
  {
   "metadata": {},
   "cell_type": "markdown",
   "source": "# 2. Составить интервальный статистический ряд",
   "id": "bf64b7511a4e7733"
  },
  {
   "metadata": {},
   "cell_type": "markdown",
   "source": [
    "### Порядок выполнения:\n",
    "\n",
    "1. **Определение числа интервалов (k):**\n",
    "   Используется формула Стерджеса:\n",
    "   k = 1 + 3.322 * log10(n)\n",
    "   где n — объём выборки.\n",
    "\n",
    "2. **Расчёт ширины интервала (h):**\n",
    "   h = (X_max - X_min) / k\n",
    "   где X_max и X_min — максимальное и минимальное значения.\n",
    "\n",
    "3. **Формирование интервалов:**\n",
    "   Деление диапазона от X_min до X_max с шагом h.\n",
    "\n",
    "4. **Подсчёт частот:**\n",
    "   Определить, сколько элементов выборки попадает в каждый интервал.\n"
   ],
   "id": "e7849e646d0979b6"
  },
  {
   "metadata": {
    "ExecuteTime": {
     "end_time": "2024-12-15T18:08:12.646207Z",
     "start_time": "2024-12-15T18:08:12.640534Z"
    }
   },
   "cell_type": "code",
   "source": [
    "# Определение диапазона данных\n",
    "min_val = min(data)\n",
    "max_val = max(data)\n",
    "\n",
    "# Вычисление количества интервалов (используем правило Стерджесса)\n",
    "n = len(data)\n",
    "k = int(np.ceil(1 + 3.322 * np.log10(n)))  # Количество интервалов\n",
    "interval_width = (max_val - min_val) / k  # Ширина интервала\n",
    "\n",
    "# Создаем интервалы\n",
    "bins = np.arange(min_val, max_val + interval_width, interval_width)\n",
    "\n",
    "# Подсчитываем частоты значений в каждом интервале\n",
    "frequency, bin_edges = np.histogram(data, bins=bins)\n",
    "\n",
    "# Строим DataFrame с интервалами и частотами\n",
    "intervals = [f\"{round(bin_edges[i], 2)}–{round(bin_edges[i+1], 2)}\" for i in range(len(bin_edges)-1)]\n",
    "interval_df = pd.DataFrame({\n",
    "    'Интервал': intervals,\n",
    "    'Частота': frequency\n",
    "})\n",
    "\n",
    "# Выводим интервальный статистический ряд\n",
    "interval_df"
   ],
   "id": "bb1e2ca4754db05",
   "outputs": [
    {
     "data": {
      "text/plain": [
       "        Интервал  Частота\n",
       "0   104.0–109.33        5\n",
       "1  109.33–114.67        7\n",
       "2   114.67–120.0       25\n",
       "3   120.0–125.33       47\n",
       "4  125.33–130.67       39\n",
       "5   130.67–136.0       41\n",
       "6   136.0–141.33       12\n",
       "7  141.33–146.67        2\n",
       "8   146.67–152.0        2\n",
       "9   152.0–157.33        1"
      ],
      "text/html": [
       "<div>\n",
       "<style scoped>\n",
       "    .dataframe tbody tr th:only-of-type {\n",
       "        vertical-align: middle;\n",
       "    }\n",
       "\n",
       "    .dataframe tbody tr th {\n",
       "        vertical-align: top;\n",
       "    }\n",
       "\n",
       "    .dataframe thead th {\n",
       "        text-align: right;\n",
       "    }\n",
       "</style>\n",
       "<table border=\"1\" class=\"dataframe\">\n",
       "  <thead>\n",
       "    <tr style=\"text-align: right;\">\n",
       "      <th></th>\n",
       "      <th>Интервал</th>\n",
       "      <th>Частота</th>\n",
       "    </tr>\n",
       "  </thead>\n",
       "  <tbody>\n",
       "    <tr>\n",
       "      <th>0</th>\n",
       "      <td>104.0–109.33</td>\n",
       "      <td>5</td>\n",
       "    </tr>\n",
       "    <tr>\n",
       "      <th>1</th>\n",
       "      <td>109.33–114.67</td>\n",
       "      <td>7</td>\n",
       "    </tr>\n",
       "    <tr>\n",
       "      <th>2</th>\n",
       "      <td>114.67–120.0</td>\n",
       "      <td>25</td>\n",
       "    </tr>\n",
       "    <tr>\n",
       "      <th>3</th>\n",
       "      <td>120.0–125.33</td>\n",
       "      <td>47</td>\n",
       "    </tr>\n",
       "    <tr>\n",
       "      <th>4</th>\n",
       "      <td>125.33–130.67</td>\n",
       "      <td>39</td>\n",
       "    </tr>\n",
       "    <tr>\n",
       "      <th>5</th>\n",
       "      <td>130.67–136.0</td>\n",
       "      <td>41</td>\n",
       "    </tr>\n",
       "    <tr>\n",
       "      <th>6</th>\n",
       "      <td>136.0–141.33</td>\n",
       "      <td>12</td>\n",
       "    </tr>\n",
       "    <tr>\n",
       "      <th>7</th>\n",
       "      <td>141.33–146.67</td>\n",
       "      <td>2</td>\n",
       "    </tr>\n",
       "    <tr>\n",
       "      <th>8</th>\n",
       "      <td>146.67–152.0</td>\n",
       "      <td>2</td>\n",
       "    </tr>\n",
       "    <tr>\n",
       "      <th>9</th>\n",
       "      <td>152.0–157.33</td>\n",
       "      <td>1</td>\n",
       "    </tr>\n",
       "  </tbody>\n",
       "</table>\n",
       "</div>"
      ]
     },
     "execution_count": 20,
     "metadata": {},
     "output_type": "execute_result"
    }
   ],
   "execution_count": 20
  },
  {
   "metadata": {},
   "cell_type": "markdown",
   "source": "# 3. По сгруппированным данным построить полигон относительных частот и гистограмму относительных частот",
   "id": "210a1a2d9780d272"
  },
  {
   "metadata": {},
   "cell_type": "markdown",
   "source": [
    "### Порядок выполнения:\n",
    "\n",
    "1. **Построение полигона относительных частот:**\n",
    "   Для каждого интервала вычисляется относительная частота, которая равна отношению частоты интервала к общему числу элементов выборки.\n",
    "   Далее строится полигон, соединяя точки, координаты которых — середины интервалов и соответствующие им относительные частоты.\n",
    "\n",
    "2. **Построение гистограммы относительных частот:**\n",
    "   Для каждого интервала строится прямоугольник, высота которого равна относительной частоте интервала.\n",
    "   Гистограмма отображает распределение данных по интервалам.\n"
   ],
   "id": "578d22d53910fb03"
  },
  {
   "metadata": {
    "ExecuteTime": {
     "end_time": "2024-12-15T18:08:12.821707Z",
     "start_time": "2024-12-15T18:08:12.707492Z"
    }
   },
   "cell_type": "code",
   "source": [
    "# Вычисляем относительные частоты\n",
    "relative_frequencies = frequency / n\n",
    "\n",
    "# Находим средние значения интервалов\n",
    "midpoints = [(bin_edges[i] + bin_edges[i+1]) / 2 for i in range(len(bin_edges)-1)]\n",
    "\n",
    "# Строим график\n",
    "plt.figure(figsize=(8, 6))\n",
    "\n",
    "# Строим гистограмму относительных частот\n",
    "plt.hist(midpoints, bins=bins, weights=relative_frequencies, alpha=0.5, color='y', edgecolor='black', label='Гистограмма')\n",
    "\n",
    "# Строим полигон относительных частот\n",
    "plt.plot(midpoints, relative_frequencies, marker='o', linestyle='-', color='b', label='Полигон относительных частот')\n",
    "\n",
    "# Оформляем график\n",
    "plt.title('Гистограмма и полигон относительных частот')\n",
    "plt.xlabel('Среднее значение интервала')\n",
    "plt.ylabel('Относительная частота')\n",
    "plt.grid(True)\n",
    "plt.legend()\n",
    "\n",
    "# Показываем график\n",
    "plt.show()"
   ],
   "id": "4681f2ddc2a5024c",
   "outputs": [
    {
     "data": {
      "text/plain": [
       "<Figure size 800x600 with 1 Axes>"
      ],
      "image/png": "[encoded data removed]"
     },
     "metadata": {},
     "output_type": "display_data"
    }
   ],
   "execution_count": 21
  },
  {
   "metadata": {},
   "cell_type": "markdown",
   "source": "# 4. Построить график эмпирической функции распределения",
   "id": "99971ad244922424"
  },
  {
   "metadata": {},
   "cell_type": "markdown",
   "source": [
    "### Порядок выполнения:\n",
    "\n",
    "1. **Построение эмпирической функции распределения:**\n",
    "   Эмпирическая функция распределения (ЭФР) показывает, какую долю всех наблюдений занимает значение, меньшее или равное заданному.\n",
    "   Для каждого значения выборки определяется, какая часть всех данных меньше или равна этому значению, и строится график, где по оси X откладываются значения выборки, а по оси Y — соответствующие эмпирические вероятности (доли).\n"
   ],
   "id": "8944c4c729bcaad7"
  },
  {
   "metadata": {
    "ExecuteTime": {
     "end_time": "2024-12-15T18:08:12.932628Z",
     "start_time": "2024-12-15T18:08:12.840930Z"
    }
   },
   "cell_type": "code",
   "source": [
    "# Рассчитываем эмпирическую функцию распределения\n",
    "n = len(sorted_data)\n",
    "ecdf_values = np.arange(1, n+1) / n  # Эмпирическая частота накопления\n",
    "\n",
    "# Строим график ЭФР\n",
    "plt.step(sorted_data, ecdf_values, where='post', color='y', label='Эмпирическая функция распределения')\n",
    "\n",
    "# Оформляем график\n",
    "plt.title('График эмпирической функции распределения')\n",
    "plt.xlabel('Значения данных')\n",
    "plt.ylabel('Эмпирическая вероятность')\n",
    "plt.grid(True)\n",
    "plt.legend()\n",
    "\n",
    "# Показываем график\n",
    "plt.show()"
   ],
   "id": "c60d7f86c02a9102",
   "outputs": [
    {
     "data": {
      "text/plain": [
       "<Figure size 640x480 with 1 Axes>"
      ],
      "image/png": "[encoded data removed]"
     },
     "metadata": {},
     "output_type": "display_data"
    }
   ],
   "execution_count": 22
  },
  {
   "metadata": {
    "ExecuteTime": {
     "end_time": "2024-12-15T18:08:12.942065Z",
     "start_time": "2024-12-15T18:08:12.936634Z"
    }
   },
   "cell_type": "code",
   "source": [
    "data_ep = {\n",
    "    'Значения данных': sorted_data,\n",
    "    'Эмпирическая вероятность': ecdf_values\n",
    "}\n",
    "\n",
    "df_ep = pd.DataFrame(data_ep)\n",
    "\n",
    "df_ep"
   ],
   "id": "4f778da16cf5be0d",
   "outputs": [
    {
     "data": {
      "text/plain": [
       "     Значения данных  Эмпирическая вероятность\n",
       "0                104                  0.005525\n",
       "1                108                  0.011050\n",
       "2                108                  0.016575\n",
       "3                109                  0.022099\n",
       "4                109                  0.027624\n",
       "..               ...                       ...\n",
       "176              143                  0.977901\n",
       "177              144                  0.983425\n",
       "178              147                  0.988950\n",
       "179              147                  0.994475\n",
       "180              152                  1.000000\n",
       "\n",
       "[181 rows x 2 columns]"
      ],
      "text/html": [
       "<div>\n",
       "<style scoped>\n",
       "    .dataframe tbody tr th:only-of-type {\n",
       "        vertical-align: middle;\n",
       "    }\n",
       "\n",
       "    .dataframe tbody tr th {\n",
       "        vertical-align: top;\n",
       "    }\n",
       "\n",
       "    .dataframe thead th {\n",
       "        text-align: right;\n",
       "    }\n",
       "</style>\n",
       "<table border=\"1\" class=\"dataframe\">\n",
       "  <thead>\n",
       "    <tr style=\"text-align: right;\">\n",
       "      <th></th>\n",
       "      <th>Значения данных</th>\n",
       "      <th>Эмпирическая вероятность</th>\n",
       "    </tr>\n",
       "  </thead>\n",
       "  <tbody>\n",
       "    <tr>\n",
       "      <th>0</th>\n",
       "      <td>104</td>\n",
       "      <td>0.005525</td>\n",
       "    </tr>\n",
       "    <tr>\n",
       "      <th>1</th>\n",
       "      <td>108</td>\n",
       "      <td>0.011050</td>\n",
       "    </tr>\n",
       "    <tr>\n",
       "      <th>2</th>\n",
       "      <td>108</td>\n",
       "      <td>0.016575</td>\n",
       "    </tr>\n",
       "    <tr>\n",
       "      <th>3</th>\n",
       "      <td>109</td>\n",
       "      <td>0.022099</td>\n",
       "    </tr>\n",
       "    <tr>\n",
       "      <th>4</th>\n",
       "      <td>109</td>\n",
       "      <td>0.027624</td>\n",
       "    </tr>\n",
       "    <tr>\n",
       "      <th>...</th>\n",
       "      <td>...</td>\n",
       "      <td>...</td>\n",
       "    </tr>\n",
       "    <tr>\n",
       "      <th>176</th>\n",
       "      <td>143</td>\n",
       "      <td>0.977901</td>\n",
       "    </tr>\n",
       "    <tr>\n",
       "      <th>177</th>\n",
       "      <td>144</td>\n",
       "      <td>0.983425</td>\n",
       "    </tr>\n",
       "    <tr>\n",
       "      <th>178</th>\n",
       "      <td>147</td>\n",
       "      <td>0.988950</td>\n",
       "    </tr>\n",
       "    <tr>\n",
       "      <th>179</th>\n",
       "      <td>147</td>\n",
       "      <td>0.994475</td>\n",
       "    </tr>\n",
       "    <tr>\n",
       "      <th>180</th>\n",
       "      <td>152</td>\n",
       "      <td>1.000000</td>\n",
       "    </tr>\n",
       "  </tbody>\n",
       "</table>\n",
       "<p>181 rows × 2 columns</p>\n",
       "</div>"
      ]
     },
     "execution_count": 23,
     "metadata": {},
     "output_type": "execute_result"
    }
   ],
   "execution_count": 23
  },
  {
   "metadata": {},
   "cell_type": "markdown",
   "source": "# 5. Найти числовые характеристики выборки: выборочное среднее, исправленную выборочную дисперсию, моду, медиану, эксцесс, асимметрию. ",
   "id": "651db7513545e306"
  },
  {
   "metadata": {},
   "cell_type": "markdown",
   "source": [
    "Числовые характеристики выборки позволяют описать ее основные свойства:\n",
    "\n",
    "* Выборочное среднее — среднее арифметическое всех значений выборки.\n",
    "* Исправленная выборочная дисперсия — мера разброса значений относительно выборочного среднего, учитывающая поправку на число наблюдений.\n",
    "* Мода — значение, которое встречается наиболее часто.\n",
    "* Медиана — значение, делящее выборку на две равные части.\n",
    "* Эксцесс — мера \"плоскости\" распределения по сравнению с нормальным.\n",
    "* Асимметрия — мера симметричности распределения относительно среднего."
   ],
   "id": "6cf9956991246c8f"
  },
  {
   "metadata": {
    "ExecuteTime": {
     "end_time": "2024-12-15T18:08:12.976393Z",
     "start_time": "2024-12-15T18:08:12.971521Z"
    }
   },
   "cell_type": "code",
   "source": [
    "import scipy.stats as stats\n",
    "\n",
    "\n",
    "# Выборочное среднее\n",
    "mean = np.mean(data)\n",
    "\n",
    "# Исправленная выборочная дисперсия (используется ddof=1 для корректности)\n",
    "variance = np.var(data, ddof=1)\n",
    "\n",
    "# Мода (используем scipy для нахождения моды)\n",
    "mode = stats.mode(data)  # Исправлено: доступ к атрибуту mode объекта\n",
    "\n",
    "# Медиана\n",
    "median = np.median(data)\n",
    "\n",
    "# Эксцесс (эксцесс порядковой функции распределения, приближенно для выборки)\n",
    "kurtosis = stats.kurtosis(data)\n",
    "\n",
    "# Асимметрия (скос выборки)\n",
    "skewness = stats.skew(data)\n",
    "\n",
    "# Вывод всех характеристик\n",
    "print(f\"Выборочное среднее: {mean}\")\n",
    "print(f\"Исправленная выборочная дисперсия: {variance}\")\n",
    "print(f\"Мода: {mode}\")\n",
    "print(f\"Медиана: {median}\")\n",
    "print(f\"Эксцесс: {kurtosis}\")\n",
    "print(f\"Асимметрия: {skewness}\")\n"
   ],
   "id": "ffc92e614d7d5078",
   "outputs": [
    {
     "name": "stdout",
     "output_type": "stream",
     "text": [
      "Выборочное среднее: 126.02762430939227\n",
      "Исправленная выборочная дисперсия: 66.48256599140578\n",
      "Мода: ModeResult(mode=np.int64(120), count=np.int64(13))\n",
      "Медиана: 126.0\n",
      "Эксцесс: 0.14727608214021837\n",
      "Асимметрия: 0.05059671083949057\n"
     ]
    }
   ],
   "execution_count": 24
  },
  {
   "metadata": {},
   "cell_type": "markdown",
   "source": "# 6. По виду гистограммы и эмпирической функции распределения выборки выдвинуть гипотезу о распределении генеральной совокупности. ",
   "id": "3107cb986f4e5fdf"
  },
  {
   "metadata": {},
   "cell_type": "markdown",
   "source": [
    "Гипотеза: распределение наиболее близко к нормальному распределению, предположение основано на виде эмпирической функции и гистограммы распределения.\n",
    "\n",
    "Гистограмма данных имеет форму, напоминающую колоколообразную кривую, что является характерным для нормального распределения.\n",
    "\n",
    "Эмпирическая функция распределения показывает плавный рост, что также поддерживает предположение о нормальности данных.\n",
    "\n",
    "Также схожесть с нормальным распределением показывает близкое к 0 ассиметрия."
   ],
   "id": "46dc9a9fe795b4f"
  },
  {
   "metadata": {},
   "cell_type": "markdown",
   "source": "# 7. Найти оценки параметров предполагаемого распределения генеральной совокупности. ",
   "id": "a81d49a23cc37ac0"
  },
  {
   "metadata": {
    "ExecuteTime": {
     "end_time": "2024-12-15T18:08:13.026022Z",
     "start_time": "2024-12-15T18:08:13.021343Z"
    }
   },
   "cell_type": "code",
   "source": [
    "import scipy.stats as stats\n",
    "\n",
    "\n",
    "# Выборочное среднее\n",
    "mean = np.mean(data)\n",
    "\n",
    "# Исправленная выборочная дисперсия (используется ddof=1 для корректности)\n",
    "variance = np.var(data, ddof=1)\n",
    "\n",
    "# Мода (используем scipy для нахождения моды)\n",
    "mode = stats.mode(data)  # Исправлено: доступ к атрибуту mode объекта\n",
    "\n",
    "# Медиана\n",
    "median = np.median(data)\n",
    "\n",
    "# Эксцесс (эксцесс порядковой функции распределения, приближенно для выборки)\n",
    "kurtosis = stats.kurtosis(data)\n",
    "\n",
    "# Асимметрия (скос выборки)\n",
    "skewness = stats.skew(data)\n",
    "\n",
    "# Вывод всех характеристик\n",
    "print(f\"Выборочное среднее: {mean}\")\n",
    "print(f\"Исправленная выборочная дисперсия: {variance}\")\n",
    "print(f\"Мода: {mode}\")\n",
    "print(f\"Медиана: {median}\")\n",
    "print(f\"Эксцесс: {kurtosis}\")\n",
    "print(f\"Асимметрия: {skewness}\")\n"
   ],
   "id": "5090dfdbb46cb4fb",
   "outputs": [
    {
     "name": "stdout",
     "output_type": "stream",
     "text": [
      "Выборочное среднее: 126.02762430939227\n",
      "Исправленная выборочная дисперсия: 66.48256599140578\n",
      "Мода: ModeResult(mode=np.int64(120), count=np.int64(13))\n",
      "Медиана: 126.0\n",
      "Эксцесс: 0.14727608214021837\n",
      "Асимметрия: 0.05059671083949057\n"
     ]
    }
   ],
   "execution_count": 25
  },
  {
   "metadata": {},
   "cell_type": "markdown",
   "source": "# 8. Построить на чертеже гистограммы и эмпирической функции её теоретические аналоги f(x) и F(x). #\n",
   "id": "8b6cffc69b30d039"
  },
  {
   "metadata": {},
   "cell_type": "markdown",
   "source": "Теоретические функции плотности (f(x)) и распределения (F(x)) представляют собой математические модели, которые описывают, как данные должны распределяться в соответствии с выбранным распределением.",
   "id": "8b6efe682c328da5"
  },
  {
   "metadata": {},
   "cell_type": "markdown",
   "source": [
    "### Порядок выполнения:\n",
    "\n",
    "1. **Построение теоретической гистограммы (f(x)):**\n",
    "   На основе теоретического распределения строится гистограмма, где высота столбцов соответствует теоретическим вероятностям попадания данных в соответствующие интервалы.\n",
    "\n",
    "2. **Построение теоретической эмпирической функции распределения (F(x)):**\n",
    "   Строится график теоретической функции распределения, который отражает вероятность того, что случайная величина примет значение, меньшее или равное заданному.\n",
    "   На графике по оси X откладываются возможные значения, а по оси Y — теоретические накопленные вероятности.\n"
   ],
   "id": "7ec48defc17d11c6"
  },
  {
   "metadata": {
    "ExecuteTime": {
     "end_time": "2024-12-15T18:08:13.329952Z",
     "start_time": "2024-12-15T18:08:13.075529Z"
    }
   },
   "cell_type": "code",
   "source": [
    "# Оценки параметров нормального распределения\n",
    "mean_estimate = np.mean(data)\n",
    "std_estimate = np.std(data, ddof=1)\n",
    "\n",
    "# Первая фигура: гистограмма и теоретическая плотность вероятности\n",
    "plt.figure(figsize=(12, 6))\n",
    "plt.subplot(1, 2, 1)\n",
    "\n",
    "# Эмпирическая гистограмма\n",
    "plt.hist(data, bins=15, density=True, alpha=0.6, color='g', label='Эмпирическая гистограмма')\n",
    "\n",
    "# Теоретическая функция плотности вероятности\n",
    "xmin, xmax = plt.xlim()\n",
    "x = np.linspace(xmin, xmax, 100)\n",
    "pdf = stats.norm.pdf(x, mean_estimate, std_estimate)\n",
    "plt.plot(x, pdf, 'r-', label='Теоретическая плотность вероятности')\n",
    "\n",
    "# Легенда\n",
    "plt.legend(loc='upper right', bbox_to_anchor=(1.13, 1))\n",
    "plt.title('Гистограмма и теоретическая плотность')\n",
    "plt.xlabel('Значения')\n",
    "plt.ylabel('Плотность вероятности')\n",
    "plt.grid(True)\n",
    "\n",
    "# Вторая фигура: ЭФР и теоретическая функция распределения\n",
    "plt.subplot(1, 2, 2)\n",
    "\n",
    "# Эмпирическая функция распределения (ЭФР)\n",
    "sorted_data = np.sort(data)\n",
    "ecdf = np.arange(1, len(sorted_data) + 1) / len(sorted_data)\n",
    "plt.step(sorted_data, ecdf, 'b-', label='Эмпирическая функция распределения')\n",
    "\n",
    "# Теоретическая функция распределения\n",
    "cdf = stats.norm.cdf(x, mean_estimate, std_estimate)\n",
    "plt.plot(x, cdf, 'm-', label='Теоретическая функция распределения')\n",
    "\n",
    "# Легенда\n",
    "plt.legend(loc='upper right', bbox_to_anchor=(0.65, 1))\n",
    "plt.title('Эмпирическая и теоретическая функции распределения')\n",
    "plt.xlabel('Значения')\n",
    "plt.ylabel('Функция распределения')\n",
    "plt.grid(True)\n",
    "\n",
    "# Показать первую фигуру\n",
    "plt.tight_layout()\n",
    "plt.show()\n"
   ],
   "id": "67456f7a13e60021",
   "outputs": [
    {
     "data": {
      "text/plain": [
       "<Figure size 1200x600 with 2 Axes>"
      ],
      "image/png": "[encoded data removed]"
     },
     "metadata": {},
     "output_type": "display_data"
    }
   ],
   "execution_count": 26
  },
  {
   "metadata": {},
   "cell_type": "markdown",
   "source": "# 9. Проверить выполнение правила «трех сигма».",
   "id": "3709ce63aaf62e2d"
  },
  {
   "metadata": {},
   "cell_type": "markdown",
   "source": [
    "### Порядок выполнения:\n",
    "\n",
    "1. **Проверка выполнения правила «трех сигма»:**\n",
    "   Правило «трех сигма» утверждает, что для нормально распределённой случайной величины около 99.7% данных должны лежать в интервале от μ - 3σ до μ + 3σ, где μ — среднее значение, а σ — стандартное отклонение.\n",
    "   Для проверки необходимо вычислить среднее и стандартное отклонение выборки, а затем проверить, сколько данных попадает в этот интервал. Если доля данных в интервале близка к 99.7%, правило выполнено.\n"
   ],
   "id": "be7b1b4ad8f9a83e"
  },
  {
   "metadata": {
    "ExecuteTime": {
     "end_time": "2024-12-15T18:08:13.346816Z",
     "start_time": "2024-12-15T18:08:13.341824Z"
    }
   },
   "cell_type": "code",
   "source": [
    "# Оценки параметров нормального распределения\n",
    "mean_estimate = np.mean(data)\n",
    "std_estimate = np.std(data, ddof=1)\n",
    "\n",
    "# Границы интервалов\n",
    "lower_bound_1 = mean_estimate - 1 * std_estimate\n",
    "upper_bound_1 = mean_estimate + 1 * std_estimate\n",
    "\n",
    "lower_bound_2 = mean_estimate - 2 * std_estimate\n",
    "upper_bound_2 = mean_estimate + 2 * std_estimate\n",
    "\n",
    "lower_bound_3 = mean_estimate - 3 * std_estimate\n",
    "upper_bound_3 = mean_estimate + 3 * std_estimate\n",
    "\n",
    "# Подсчет значений в интервалах\n",
    "values_in_range_1 = [x for x in data if lower_bound_1 <= x <= upper_bound_1]\n",
    "values_in_range_2 = [x for x in data if lower_bound_2 <= x <= upper_bound_2]\n",
    "values_in_range_3 = [x for x in data if lower_bound_3 <= x <= upper_bound_3]\n",
    "\n",
    "# Процент значений в интервалах\n",
    "percent_in_range_1 = len(values_in_range_1) / len(data) * 100\n",
    "percent_in_range_2 = len(values_in_range_2) / len(data) * 100\n",
    "percent_in_range_3 = len(values_in_range_3) / len(data) * 100\n",
    "\n",
    "# Выводим результаты\n",
    "print(f\"Границы интервала по правилу 1 сигмы: ({lower_bound_1:.2f}, {upper_bound_1:.2f})\")\n",
    "print(f\"Количество значений в интервале 1 сигма: {len(values_in_range_1)}\")\n",
    "print(f\"Процент значений в интервале 1 сигма: {percent_in_range_1:.2f}%\\n\")\n",
    "\n",
    "print(f\"Границы интервала по правилу 2 сигмы: ({lower_bound_2:.2f}, {upper_bound_2:.2f})\")\n",
    "print(f\"Количество значений в интервале 2 сигмы: {len(values_in_range_2)}\")\n",
    "print(f\"Процент значений в интервале 2 сигмы: {percent_in_range_2:.2f}%\\n\")\n",
    "\n",
    "print(f\"Границы интервала по правилу 3 сигмы: ({lower_bound_3:.2f}, {upper_bound_3:.2f})\")\n",
    "print(f\"Количество значений в интервале 3 сигмы: {len(values_in_range_3)}\")\n",
    "print(f\"Процент значений в интервале 3 сигмы: {percent_in_range_3:.2f}%\")"
   ],
   "id": "d95018b8b9de0491",
   "outputs": [
    {
     "name": "stdout",
     "output_type": "stream",
     "text": [
      "Границы интервала по правилу 1 сигмы: (117.87, 134.18)\n",
      "Количество значений в интервале 1 сигма: 130\n",
      "Процент значений в интервале 1 сигма: 71.82%\n",
      "\n",
      "Границы интервала по правилу 2 сигмы: (109.72, 142.33)\n",
      "Количество значений в интервале 2 сигмы: 171\n",
      "Процент значений в интервале 2 сигмы: 94.48%\n",
      "\n",
      "Границы интервала по правилу 3 сигмы: (101.57, 150.49)\n",
      "Количество значений в интервале 3 сигмы: 180\n",
      "Процент значений в интервале 3 сигмы: 99.45%\n"
     ]
    }
   ],
   "execution_count": 27
  },
  {
   "metadata": {},
   "cell_type": "markdown",
   "source": "Т.к. только 99,45% поподают в три сигмы, то правило не выполняется, но в целом результат можно считать достаточно близким и приемлемым.",
   "id": "558b2b9162ef6b49"
  },
  {
   "metadata": {},
   "cell_type": "markdown",
   "source": "# 10. Применить критерий согласия Пирсона принять или опровергнуть выдвинутую гипотезу о распределении генеральной совокупности.",
   "id": "99b5d7fc3bb96ba9"
  },
  {
   "metadata": {},
   "cell_type": "markdown",
   "source": [
    "### Порядок выполнения:\n",
    "\n",
    "1. **Применение критерия согласия Пирсона:**\n",
    "   Критерий Пирсона используется для проверки гипотезы о соответствии наблюдаемых данных теоретическому распределению. Для этого необходимо:\n",
    "\n",
    "   - Сформулировать нулевую гипотезу (H₀): данные следуют выбранному распределению (например, нормальному).\n",
    "   - Разделить данные на интервалы и подсчитать наблюдаемые частоты.\n",
    "   - Рассчитать ожидаемые частоты на основе теоретического распределения.\n",
    "   - Использовать статистику χ² для вычисления отклонения между наблюдаемыми и ожидаемыми частотами:\n",
    "     χ² = Σ ((Oᵢ - Eᵢ)² / Eᵢ)\n",
    "     где Oᵢ — наблюдаемые частоты, а Eᵢ — ожидаемые частоты.\n",
    "\n",
    "2. **Проверка гипотезы:**\n",
    "   - Рассчитать значение χ² и сравнить его с критическим значением из таблицы распределения χ² для заданного уровня значимости.\n",
    "   - Если рассчитанное значение χ² меньше критического, нулевая гипотеза принимается, и распределение данных соответствует предполагаемому.\n",
    "   - Если значение χ² больше критического, гипотеза отвергается, и предполагаемое распределение не подходит для данных.\n"
   ],
   "id": "52ef53b85432eb6a"
  },
  {
   "metadata": {},
   "cell_type": "markdown",
   "source": " Критерий согласия Пирсона (χ²-критерий) используется для проверки гипотез о соответствии распределения выборки предполагаемому распределению (например, нормальному). Этот критерий сравнивает наблюдаемые частоты с ожидаемыми частотами, которые рассчитываются на основе предполагаемого распределения.",
   "id": "cc798d157a2dc66"
  },
  {
   "metadata": {
    "ExecuteTime": {
     "end_time": "2024-12-15T18:08:13.364529Z",
     "start_time": "2024-12-15T18:08:13.358803Z"
    }
   },
   "cell_type": "code",
   "source": [
    "# Параметры выборки\n",
    "n = len(data)\n",
    "mean = np.mean(data)\n",
    "std_dev = np.std(data, ddof=1)\n",
    "\n",
    "# Интервалы для хи-квадрат теста\n",
    "num_bins = 10\n",
    "bins = np.linspace(min(data), max(data), num_bins + 1)\n",
    "observed_freq, _ = np.histogram(data, bins=bins)\n",
    "\n",
    "# Теоретические частоты на основе нормального распределения\n",
    "expected_freq = []\n",
    "for i in range(num_bins):\n",
    "    lower_bound = bins[i]\n",
    "    upper_bound = bins[i + 1]\n",
    "    prob = stats.norm.cdf(upper_bound, mean, std_dev) - stats.norm.cdf(lower_bound, mean, std_dev)\n",
    "    expected_freq.append(prob * n)\n",
    "\n",
    "# Выполнение теста хи-квадрат\n",
    "chi_squared_statistic = sum((obs - exp) ** 2 / exp for obs, exp in zip(observed_freq, expected_freq))\n",
    "critical_value = stats.chi2.ppf(0.95, df=num_bins - 3)  # df = k - 1 - 2 (т.к. 2 параметра оценены по выборке)\n",
    "accept_null_hypothesis = chi_squared_statistic < critical_value\n",
    "\n",
    "print(f\"Результат теста: {chi_squared_statistic}\")\n",
    "print(f\"Критическое значение: {critical_value}\")\n",
    "print(f\"Итог: {\"Подтверждено\" if accept_null_hypothesis else \"Не подтверждено\"}\")"
   ],
   "id": "b50187c262de8464",
   "outputs": [
    {
     "name": "stdout",
     "output_type": "stream",
     "text": [
      "Результат теста: 6.240278816711791\n",
      "Критическое значение: 14.067140449340167\n",
      "Итог: Подтверждено\n"
     ]
    }
   ],
   "execution_count": 28
  },
  {
   "metadata": {
    "ExecuteTime": {
     "end_time": "2024-12-15T18:08:13.382783Z",
     "start_time": "2024-12-15T18:08:13.376569Z"
    }
   },
   "cell_type": "code",
   "source": [
    "# Создание таблицы с наблюдаемыми и ожидаемыми частотами\n",
    "results_table = pd.DataFrame({\n",
    "    'Интервал': [f'({bins[i]:.2f}, {bins[i + 1]:.2f})' for i in range(num_bins)],\n",
    "    'Наблюдаемая частота': observed_freq,\n",
    "    'Ожидаемая частота': expected_freq\n",
    "})\n",
    "results_table"
   ],
   "id": "fe333064e1fb69dc",
   "outputs": [
    {
     "data": {
      "text/plain": [
       "           Интервал  Наблюдаемая частота  Ожидаемая частота\n",
       "0  (104.00, 108.80)                    3           2.507829\n",
       "1  (108.80, 113.60)                    7           8.403206\n",
       "2  (113.60, 118.40)                   25          20.097738\n",
       "3  (118.40, 123.20)                   31          34.318356\n",
       "4  (123.20, 128.00)                   38          41.846654\n",
       "5  (128.00, 132.80)                   40          36.440088\n",
       "6  (132.80, 137.60)                   27          22.660107\n",
       "7  (137.60, 142.40)                    5          10.060947\n",
       "8  (142.40, 147.20)                    4           3.188567\n",
       "9  (147.20, 152.00)                    1           0.721071"
      ],
      "text/html": [
       "<div>\n",
       "<style scoped>\n",
       "    .dataframe tbody tr th:only-of-type {\n",
       "        vertical-align: middle;\n",
       "    }\n",
       "\n",
       "    .dataframe tbody tr th {\n",
       "        vertical-align: top;\n",
       "    }\n",
       "\n",
       "    .dataframe thead th {\n",
       "        text-align: right;\n",
       "    }\n",
       "</style>\n",
       "<table border=\"1\" class=\"dataframe\">\n",
       "  <thead>\n",
       "    <tr style=\"text-align: right;\">\n",
       "      <th></th>\n",
       "      <th>Интервал</th>\n",
       "      <th>Наблюдаемая частота</th>\n",
       "      <th>Ожидаемая частота</th>\n",
       "    </tr>\n",
       "  </thead>\n",
       "  <tbody>\n",
       "    <tr>\n",
       "      <th>0</th>\n",
       "      <td>(104.00, 108.80)</td>\n",
       "      <td>3</td>\n",
       "      <td>2.507829</td>\n",
       "    </tr>\n",
       "    <tr>\n",
       "      <th>1</th>\n",
       "      <td>(108.80, 113.60)</td>\n",
       "      <td>7</td>\n",
       "      <td>8.403206</td>\n",
       "    </tr>\n",
       "    <tr>\n",
       "      <th>2</th>\n",
       "      <td>(113.60, 118.40)</td>\n",
       "      <td>25</td>\n",
       "      <td>20.097738</td>\n",
       "    </tr>\n",
       "    <tr>\n",
       "      <th>3</th>\n",
       "      <td>(118.40, 123.20)</td>\n",
       "      <td>31</td>\n",
       "      <td>34.318356</td>\n",
       "    </tr>\n",
       "    <tr>\n",
       "      <th>4</th>\n",
       "      <td>(123.20, 128.00)</td>\n",
       "      <td>38</td>\n",
       "      <td>41.846654</td>\n",
       "    </tr>\n",
       "    <tr>\n",
       "      <th>5</th>\n",
       "      <td>(128.00, 132.80)</td>\n",
       "      <td>40</td>\n",
       "      <td>36.440088</td>\n",
       "    </tr>\n",
       "    <tr>\n",
       "      <th>6</th>\n",
       "      <td>(132.80, 137.60)</td>\n",
       "      <td>27</td>\n",
       "      <td>22.660107</td>\n",
       "    </tr>\n",
       "    <tr>\n",
       "      <th>7</th>\n",
       "      <td>(137.60, 142.40)</td>\n",
       "      <td>5</td>\n",
       "      <td>10.060947</td>\n",
       "    </tr>\n",
       "    <tr>\n",
       "      <th>8</th>\n",
       "      <td>(142.40, 147.20)</td>\n",
       "      <td>4</td>\n",
       "      <td>3.188567</td>\n",
       "    </tr>\n",
       "    <tr>\n",
       "      <th>9</th>\n",
       "      <td>(147.20, 152.00)</td>\n",
       "      <td>1</td>\n",
       "      <td>0.721071</td>\n",
       "    </tr>\n",
       "  </tbody>\n",
       "</table>\n",
       "</div>"
      ]
     },
     "execution_count": 29,
     "metadata": {},
     "output_type": "execute_result"
    }
   ],
   "execution_count": 29
  },
  {
   "metadata": {},
   "cell_type": "markdown",
   "source": "# 11. Найти доверительные интервалы для генеральной средней и генерального среднеквадратического отклонения по уровню надежности γ = 0,95.",
   "id": "e951880ec1def55b"
  },
  {
   "metadata": {},
   "cell_type": "markdown",
   "source": [
    "### Порядок выполнения:\n",
    "\n",
    "1. **Нахождение доверительного интервала для генеральной средней:**\n",
    "   Для построения доверительного интервала для средней генеральной совокупности, используя уровень надежности γ = 0.95, необходимо:\n",
    "\n",
    "   - Вычислить выборочное среднее x̄ и стандартное отклонение выборки s.\n",
    "   - Для нормального распределения (или больших выборок) использовать t-распределение или нормальное распределение (в зависимости от объёма выборки).\n",
    "   - Рассчитать границы интервала с использованием формулы:\n",
    "     x̄ ± t(α/2) * (s / √n)\n",
    "     где t(α/2) — критическое значение t-распределения для уровня значимости α = 1 - γ, n — размер выборки.\n",
    "\n",
    "2. **Нахождение доверительного интервала для генерального среднеквадратического отклонения:**\n",
    "   Для вычисления доверительного интервала для стандартного отклонения используется χ²-распределение. Формула для интервала:\n",
    "     (√((n-1) * s² / χ²(α/2, n-1)), √((n-1) * s² / χ²(1-α/2, n-1)))\n",
    "   где s² — выборочная дисперсия, χ²(α/2, n-1) и χ²(1-α/2, n-1) — критические значения χ²-распределения для уровня значимости α.\n"
   ],
   "id": "6c7e6d8f90c2add9"
  },
  {
   "metadata": {},
   "cell_type": "markdown",
   "source": "Доверительный интервал (ДИ) — это интервал, который с заданной вероятностью (уровень надежности) содержит истинное значение параметра генеральной совокупности. ",
   "id": "d7877e3daaff781e"
  },
  {
   "metadata": {
    "ExecuteTime": {
     "end_time": "2024-12-15T18:08:13.419023Z",
     "start_time": "2024-12-15T18:08:13.414755Z"
    }
   },
   "cell_type": "code",
   "source": [
    "# Выборочное среднее и исправленная выборочная дисперсия\n",
    "mean = np.mean(data)\n",
    "std_dev = np.std(data, ddof=1)\n",
    "\n",
    "# Уровень значимости\n",
    "gamma = 0.95\n",
    "alpha = 1 - gamma\n",
    "\n",
    "# Доверительный интервал для генеральной средней\n",
    "t_critical = stats.t.ppf(1 - alpha / 2, df=n - 1)\n",
    "CI_mean = (mean - t_critical * (std_dev / np.sqrt(n)), mean + t_critical * (std_dev / np.sqrt(n)))\n",
    "\n",
    "# Доверительный интервал для генерального среднеквадратического отклонения\n",
    "chi2_critical_low = stats.chi2.ppf(alpha / 2, df=n - 1)\n",
    "chi2_critical_high = stats.chi2.ppf(1 - alpha / 2, df=n - 1)\n",
    "CI_std_dev = (np.sqrt((n - 1) * std_dev**2 / chi2_critical_high), np.sqrt((n - 1) * std_dev**2 / chi2_critical_low))\n",
    "\n",
    "# Вывод результатов\n",
    "print(\"Доверительный интервал для генеральной средней:\", *CI_mean)\n",
    "print(\"Доверительный интервал для генерального среднеквадратического отклонения:\", *CI_std_dev)\n"
   ],
   "id": "7284e5b548510d71",
   "outputs": [
    {
     "name": "stdout",
     "output_type": "stream",
     "text": [
      "Доверительный интервал для генеральной средней: 124.83173085171636 127.22351776706817\n",
      "Доверительный интервал для генерального среднеквадратического отклонения: 7.391356409736207 9.092723196514504\n"
     ]
    }
   ],
   "execution_count": 30
  }
 ],
 "metadata": {
  "kernelspec": {
   "display_name": "Python 3",
   "language": "python",
   "name": "python3"
  },
  "language_info": {
   "codemirror_mode": {
    "name": "ipython",
    "version": 2
   },
   "file_extension": ".py",
   "mimetype": "text/x-python",
   "name": "python",
   "nbconvert_exporter": "python",
   "pygments_lexer": "ipython2",
   "version": "2.7.6"
  }
 },
 "nbformat": 4,
 "nbformat_minor": 5
}
